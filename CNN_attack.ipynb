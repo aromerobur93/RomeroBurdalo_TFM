{
 "cells": [
  {
   "cell_type": "code",
   "execution_count": null,
   "metadata": {},
   "outputs": [],
   "source": [
    "# Carga de librerias\n",
    "import numpy as np \n",
    "import pandas as pd \n",
    "import os\n",
    "import seaborn as sns\n",
    "import matplotlib.pyplot as plt\n",
    "import cv2\n",
    "import glob\n",
    "import os\n",
    "from PIL import Image\n",
    "from itertools import chain\n",
    "from collections import Counter\n",
    "from tensorflow.keras.models import Sequential, Model\n",
    "from tensorflow.keras.layers import Conv2D, MaxPool2D, Dense, Flatten, Dropout\n",
    "from tensorflow.keras.layers.experimental.preprocessing import Resizing\n",
    "from tensorflow.keras.callbacks import EarlyStopping\n",
    "from tensorflow.keras.optimizers import Adam\n",
    "from tensorflow.keras.preprocessing.image import ImageDataGenerator\n",
    "from sklearn.model_selection import train_test_split\n",
    "from tensorflow.keras.utils import to_categorical\n",
    "import tensorflow as tf\n",
    "from tensorflow.keras.preprocessing.image import DirectoryIterator\n",
    "from tensorflow.keras.preprocessing.image import load_img, img_to_array\n",
    "from sklearn.metrics import accuracy_score\n",
    "from keras import backend as K\n",
    "from itertools import chain\n",
    "# Definición de las variables globales\n",
    "IMG_SIZE=32\n",
    "NUM_CHANNELS=3\n",
    "NUM_CLASSES=43"
   ]
  },
  {
   "cell_type": "code",
   "execution_count": null,
   "metadata": {
    "id": "RwwDMe-dODQr"
   },
   "outputs": [],
   "source": [
    "# Declaración de los directorios\n",
    "current_dir=os.getcwd()\n",
    "dataset_dir=current_dir+\"/Dataset\"\n",
    "dir_train=dataset_dir+\"/Train\"\n",
    "train_data=pd.read_csv(dataset_dir+\"/Train.csv\")\n",
    "test_data=pd.read_csv(dataset_dir+\"/Test.csv\")\n",
    "meta_data=pd.read_csv(dataset_dir+\"/Meta.csv\")\n",
    "\n",
    "x_images=test_data[\"Path\"]\n",
    "x_train_images=train_data[\"Path\"]\n",
    "x_train_labels=train_data[['ClassId']].to_numpy()\n",
    "y_test=test_data[['ClassId']].values\n"
   ]
  },
  {
   "cell_type": "code",
   "execution_count": null,
   "metadata": {
    "id": "Tda75D3FISut"
   },
   "outputs": [],
   "source": [
    "def change_brightness(img, value):\n",
    "    hsv = cv2.cvtColor(img, cv2.COLOR_BGR2HSV)\n",
    "    h, s, v = cv2.split(hsv)\n",
    "    v = cv2.add(v,value)\n",
    "    v[v > 255] = 255\n",
    "    v[v < 0] = 0\n",
    "    final_hsv = cv2.merge((h, s, v))\n",
    "    img = cv2.cvtColor(final_hsv, cv2.COLOR_HSV2BGR)\n",
    "    return img"
   ]
  },
  {
   "cell_type": "code",
   "execution_count": null,
   "metadata": {
    "id": "pVbuM2C98d9k"
   },
   "outputs": [],
   "source": [
    "def test_data(x_images, IMG_SIZE,brig):\n",
    "    data=[]\n",
    "    for i in x_images:\n",
    "        try:\n",
    "            image=cv2.imread(dataset_dir+\"/\"+i)\n",
    "            image=change_brightness(image,brig)\n",
    "            image_from_array = Image.fromarray(image, 'RGB')\n",
    "            size_image = image_from_array.resize((IMG_SIZE, IMG_SIZE))\n",
    "            data.append(np.array(size_image))\n",
    "        except AttributeError:\n",
    "            print(\"Error\")\n",
    "    X_test=np.array(data)\n",
    "    X_test=X_test.astype('float32')/255\n",
    "    return X_test"
   ]
  },
  {
   "cell_type": "code",
   "execution_count": null,
   "metadata": {
    "id": "o5fDOW1gH6G1"
   },
   "outputs": [],
   "source": [
    "settings_trained_models = {\n",
    "    'cnn_92': {\n",
    "        'conv': [64,64,64],\n",
    "        'dens': [256,256],\n",
    "        'name': \"cnn_92\"\n",
    "    },\n",
    "    'cnn_74': {\n",
    "        'conv': [16,64,64],\n",
    "        'dens': [128,128],\n",
    "        'name': \"cnn_74\"\n",
    "    },\n",
    "    'cnn_17': {\n",
    "        'conv': [32,64,64],\n",
    "        'dens': [],\n",
    "        'name': \"cnn_17\"\n",
    "    },\n",
    "    'cnn_82': {\n",
    "        'conv': [32,32,64],\n",
    "        'dens': [256,256],\n",
    "        'name': \"cnn_82\"\n",
    "    },\n",
    "\n",
    "    'cnn_54': {\n",
    "        'conv': [16,16,32],\n",
    "        'dens': [128,128],\n",
    "        'name': \"cnn_54\"\n",
    "    },\n",
    "    'cnn_67': {\n",
    "        'conv': [16,32,64],\n",
    "        'dens': [256,256],\n",
    "        'name': \"cnn_67\"\n",
    "    },\n",
    "    'cnn_91': {\n",
    "        'conv': [64,64,64],\n",
    "        'dens': [128],\n",
    "        'name': \"cnn_91\"\n",
    "    },\n",
    "    'cnn_61': {\n",
    "        'conv': [16,32,32],\n",
    "        'dens': [128],\n",
    "        'name': \"cnn_61\"\n",
    "    },\n",
    "    'cnn_66': {\n",
    "        'conv': [16,32,64],\n",
    "        'dens': [128],\n",
    "        'name': \"cnn_66\"\n",
    "    },\n",
    "    'cnn_84': {\n",
    "        'conv': [32,32,64],\n",
    "        'dens': [128,128],\n",
    "        'name': \"cnn_84\"\n",
    "    },\n",
    "       \n",
    "}"
   ]
  },
  {
   "cell_type": "code",
   "execution_count": null,
   "metadata": {
    "id": "SKBz8_2yE2-t"
   },
   "outputs": [],
   "source": [
    "def predictions(settings, X_test):\n",
    "    results=[]\n",
    "    for name, model_settings in settings.items():\n",
    "        h5_model=current_dir+'/Results/CNN_Train/'+name+'.h5'\n",
    "        model=tf.keras.models.load_model(h5_model)\n",
    "        pred=np.argmax(model.predict(X_test), axis=-1)\n",
    "        val_acc=accuracy_score(y_test,pred)\n",
    "        result={\"Model\": name,\n",
    "          \"Accuracy\": val_acc\n",
    "            }\n",
    "        results.append(result)\n",
    "    results_table=pd.DataFrame(results)\n",
    "    return results_table\n"
   ]
  },
  {
   "cell_type": "code",
   "execution_count": null,
   "metadata": {
    "id": "YKnECZgae9_d"
   },
   "outputs": [],
   "source": [
    "X_test_180=test_data(x_images, IMG_SIZE,180)\n",
    "results_180=predictions(settings_trained_models, X_test_180)\n",
    "results_180.to_csv(current_dir+'/Results/CNN_Attack/CNN_10_results_attack_180.csv')\n",
    "\n",
    "X_test_80=test_data(x_images, IMG_SIZE,-80)\n",
    "results_80=predictions(settings_trained_models, X_test_80)\n",
    "results_80.to_csv(current_dir+'/Results/CNN_Attack/CNN_10_results_attack_80.csv')\n",
    "\n",
    "X_test_1=test_data(x_images[0:int(len(x_images)/2)], IMG_SIZE,180)\n",
    "X_test_2=test_data(x_images[int(len(x_images)/2):], IMG_SIZE,-80)\n",
    "X_test_combined=np.concatenate((X_test_1,X_test_2))\n",
    "\n",
    "results_combined=predictions(settings_trained_models, X_test_combined)\n",
    "results_combined.to_csv(current_dir+'/Results/CNN_Attack/CNN_10_results_attack_combined.csv')\n"
   ]
  }
 ],
 "metadata": {
  "accelerator": "GPU",
  "colab": {
   "collapsed_sections": [],
   "name": "CNN_attack.ipynb",
   "provenance": []
  },
  "kernelspec": {
   "display_name": "Python 3 (ipykernel)",
   "language": "python",
   "name": "python3"
  },
  "language_info": {
   "codemirror_mode": {
    "name": "ipython",
    "version": 3
   },
   "file_extension": ".py",
   "mimetype": "text/x-python",
   "name": "python",
   "nbconvert_exporter": "python",
   "pygments_lexer": "ipython3",
   "version": "3.7.11"
  }
 },
 "nbformat": 4,
 "nbformat_minor": 1
}
