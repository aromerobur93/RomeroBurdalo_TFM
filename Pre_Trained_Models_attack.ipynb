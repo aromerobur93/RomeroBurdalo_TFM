{
 "cells": [
  {
   "cell_type": "code",
   "execution_count": 1,
   "metadata": {
    "execution": {
     "iopub.execute_input": "2021-12-02T13:16:51.522816Z",
     "iopub.status.busy": "2021-12-02T13:16:51.522210Z",
     "iopub.status.idle": "2021-12-02T13:16:57.382219Z",
     "shell.execute_reply": "2021-12-02T13:16:57.381469Z",
     "shell.execute_reply.started": "2021-12-02T13:16:51.522720Z"
    },
    "id": "rSWm08TINv9w"
   },
   "outputs": [],
   "source": [
    "# Carga de librerias\n",
    "import numpy as np \n",
    "import pandas as pd \n",
    "import os\n",
    "import seaborn as sns\n",
    "import matplotlib.pyplot as plt\n",
    "import cv2\n",
    "import glob\n",
    "import os\n",
    "from PIL import Image\n",
    "from itertools import chain\n",
    "from collections import Counter\n",
    "from tensorflow.keras.models import Sequential, Model\n",
    "from tensorflow.keras.layers import Conv2D, MaxPool2D, Dense, Flatten, Dropout\n",
    "from tensorflow.keras.layers.experimental.preprocessing import Resizing\n",
    "from tensorflow.keras.callbacks import EarlyStopping\n",
    "from tensorflow.keras.optimizers import Adam\n",
    "from tensorflow.keras.preprocessing.image import ImageDataGenerator\n",
    "from sklearn.model_selection import train_test_split\n",
    "from tensorflow.keras.utils import to_categorical\n",
    "import tensorflow as tf\n",
    "from tensorflow.keras.preprocessing.image import DirectoryIterator\n",
    "from tensorflow.keras.preprocessing.image import load_img, img_to_array\n",
    "from sklearn.metrics import accuracy_score\n",
    "from keras import backend as K\n",
    "from itertools import chain\n",
    "from tensorflow.keras.applications.resnet import ResNet50\n",
    "from tensorflow.keras.applications.efficientnet import EfficientNetB0\n",
    "from tensorflow.keras.applications.inception_v3 import InceptionV3\n",
    "from tensorflow.keras.applications.densenet import DenseNet121\n",
    "# Definición de las variables globales\n",
    "IMG_SIZE=32\n",
    "NUM_CHANNELS=3\n",
    "NUM_CLASSES=43\n",
    "from random import sample, seed\n",
    "seed(3)\n",
    "\n"
   ]
  },
  {
   "cell_type": "code",
   "execution_count": 41,
   "metadata": {
    "execution": {
     "iopub.execute_input": "2021-12-02T13:37:22.481028Z",
     "iopub.status.busy": "2021-12-02T13:37:22.480742Z",
     "iopub.status.idle": "2021-12-02T13:37:22.653290Z",
     "shell.execute_reply": "2021-12-02T13:37:22.652544Z",
     "shell.execute_reply.started": "2021-12-02T13:37:22.480997Z"
    },
    "id": "RwwDMe-dODQr"
   },
   "outputs": [],
   "source": [
    "# Declaración de los directorios\n",
    "current_dir=os.getcwd()\n",
    "dataset_dir=current_dir+\"/Dataset\"\n",
    "dir_train=dataset_dir+\"/Train\"\n",
    "train_data=pd.read_csv(dataset_dir+\"/Train.csv\")\n",
    "test_data=pd.read_csv(dataset_dir+\"/Test.csv\")\n",
    "meta_data=pd.read_csv(dataset_dir+\"/Meta.csv\")\n",
    "\n",
    "x_images=test_data[\"Path\"]\n",
    "x_train_images=train_data[\"Path\"]\n",
    "x_train_labels=train_data[['ClassId']].to_numpy()\n",
    "y_test=test_data[['ClassId']].values\n"
   ]
  },
  {
   "cell_type": "code",
   "execution_count": 49,
   "metadata": {
    "execution": {
     "iopub.execute_input": "2021-12-02T13:40:10.996668Z",
     "iopub.status.busy": "2021-12-02T13:40:10.996415Z",
     "iopub.status.idle": "2021-12-02T13:40:11.003093Z",
     "shell.execute_reply": "2021-12-02T13:40:11.002117Z",
     "shell.execute_reply.started": "2021-12-02T13:40:10.996639Z"
    },
    "id": "o5RsinLQpHmP"
   },
   "outputs": [],
   "source": [
    "# Inception\n",
    "def train_data(size,shear,rotation,brig):\n",
    "    # Definimos el data generator\n",
    "    train_datagen = ImageDataGenerator(\n",
    "        rescale=1 / 255.0,\n",
    "        validation_split=0.2,\n",
    "        shear_range=shear,\n",
    "        rotation_range=rotation,\n",
    "        brightness_range=brig\n",
    "    )\n",
    "\n",
    "    # Generamos los datos de entrenamiento\n",
    "    train_generator = train_datagen.flow_from_directory(\n",
    "        directory=dir_train,\n",
    "        target_size=size,\n",
    "        class_mode=\"categorical\",\n",
    "        subset='training',\n",
    "        shuffle=True,\n",
    "        seed=3)\n",
    "\n",
    "\n",
    "    # Generamos los datos de vaidacion\n",
    "    valid_generator = train_datagen.flow_from_directory(\n",
    "        directory=dir_train,\n",
    "        target_size=size,\n",
    "        class_mode=\"categorical\",\n",
    "        subset='validation',\n",
    "        shuffle=True,\n",
    "        seed=3)\n",
    "    return train_generator,valid_generator"
   ]
  },
  {
   "cell_type": "code",
   "execution_count": 27,
   "metadata": {
    "execution": {
     "iopub.execute_input": "2021-12-02T13:25:48.652663Z",
     "iopub.status.busy": "2021-12-02T13:25:48.651946Z",
     "iopub.status.idle": "2021-12-02T13:25:48.658814Z",
     "shell.execute_reply": "2021-12-02T13:25:48.657810Z",
     "shell.execute_reply.started": "2021-12-02T13:25:48.652615Z"
    },
    "id": "3cmCaw8qtzP7"
   },
   "outputs": [],
   "source": [
    "def weights_train(train_data):\n",
    "    # Contamos el numero de valores por clase\n",
    "    counter = Counter(train_data.classes)\n",
    "    # Almacenamos los valores máximos\n",
    "    max_val = float(max(counter.values()))\n",
    "    # Calculamos los pesos\n",
    "    class_weights = {class_id : max_val/num_images for class_id, num_images in counter.items()}                     \n",
    "    return class_weights"
   ]
  },
  {
   "cell_type": "code",
   "execution_count": 45,
   "metadata": {
    "execution": {
     "iopub.execute_input": "2021-12-02T13:38:36.423135Z",
     "iopub.status.busy": "2021-12-02T13:38:36.422689Z",
     "iopub.status.idle": "2021-12-02T13:38:36.431746Z",
     "shell.execute_reply": "2021-12-02T13:38:36.430981Z",
     "shell.execute_reply.started": "2021-12-02T13:38:36.423101Z"
    },
    "id": "9V4aZOwbWwmj"
   },
   "outputs": [],
   "source": [
    "settings = {\n",
    "    'inceptionV3': {\n",
    "        'model': InceptionV3,\n",
    "        'img_size': (150, 150),\n",
    "        'shear': 0.2,\n",
    "        'brig': None,\n",
    "        'rotation': None\n",
    "    },\n",
    "    'resnet50': {\n",
    "        'model': ResNet50,\n",
    "        'img_size': (224, 224),\n",
    "        'shear': 0.2,\n",
    "        'brig': [0.8,0.8],\n",
    "        'rotation': None   \n",
    "    },\n",
    "    'DenseNet121': {\n",
    "        'model': DenseNet121,\n",
    "        'img_size': (224, 224),\n",
    "        'shear': 0.2,\n",
    "        'brig': None,\n",
    "        'rotation': None    }\n",
    "}"
   ]
  },
  {
   "cell_type": "code",
   "execution_count": null,
   "metadata": {},
   "outputs": [],
   "source": [
    "def change_brightness(img, value):\n",
    "    hsv = cv2.cvtColor(img, cv2.COLOR_BGR2HSV)\n",
    "    h, s, v = cv2.split(hsv)\n",
    "    v = cv2.add(v,value)\n",
    "    v[v > 255] = 255\n",
    "    v[v < 0] = 0\n",
    "    final_hsv = cv2.merge((h, s, v))\n",
    "    img = cv2.cvtColor(final_hsv, cv2.COLOR_HSV2BGR)\n",
    "    return img"
   ]
  },
  {
   "cell_type": "code",
   "execution_count": 29,
   "metadata": {
    "execution": {
     "iopub.execute_input": "2021-12-02T13:25:55.535370Z",
     "iopub.status.busy": "2021-12-02T13:25:55.534820Z",
     "iopub.status.idle": "2021-12-02T13:25:55.540810Z",
     "shell.execute_reply": "2021-12-02T13:25:55.539857Z",
     "shell.execute_reply.started": "2021-12-02T13:25:55.535332Z"
    }
   },
   "outputs": [],
   "source": [
    "def test_generator(test_data,img_size,brig,comb=False):\n",
    "    # Recorremos todas las imágenes\n",
    "    for i,image_path in enumerate(test_data):\n",
    "        if comb==False:\n",
    "            \n",
    "            # Para cada imagen realizamos un resizing y lo convertimos en un array \n",
    "            image = load_img(dataset_dir+\"/\"+image_path, target_size=img_size)\n",
    "            image_array = img_to_array(image)\n",
    "            image_array=change_brightness(image_array,brig)\n",
    "            image_array=image_array/255\n",
    "            image_array = np.array([image_array])\n",
    "        else:\n",
    "            if i<=len(test_data)/2:\n",
    "                image = load_img(dataset_dir+\"/\"+image_path, target_size=img_size)\n",
    "                image_array = img_to_array(image)\n",
    "                image_array=change_brightness(image_array,180)\n",
    "                image_array=image_array/255\n",
    "                image_array = np.array([image_array])\n",
    "            else:\n",
    "                image = load_img(dataset_dir+\"/\"+image_path, target_size=img_size)\n",
    "                image_array = img_to_array(image)\n",
    "                image_array=change_brightness(image_array,-80)\n",
    "                image_array=image_array/255\n",
    "                image_array = np.array([image_array])\n",
    "                \n",
    "        # Pasamos la imagen a la función de preprocesado utilizada en el modelo\n",
    "        yield image_array"
   ]
  },
  {
   "cell_type": "code",
   "execution_count": 50,
   "metadata": {
    "execution": {
     "iopub.execute_input": "2021-12-02T13:40:18.369665Z",
     "iopub.status.busy": "2021-12-02T13:40:18.369412Z",
     "iopub.status.idle": "2021-12-02T13:40:18.379515Z",
     "shell.execute_reply": "2021-12-02T13:40:18.378852Z",
     "shell.execute_reply.started": "2021-12-02T13:40:18.369636Z"
    }
   },
   "outputs": [],
   "source": [
    "def predictions (settings,x_images,bri,combinations=False):\n",
    "    results=[]\n",
    "    models=[]\n",
    "    for name, model_settings in settings.items():\n",
    "\n",
    "        brig=model_settings[\"brig\"]\n",
    "        shear=model_settings[\"shear\"]\n",
    "        rotation=model_settings[\"rotation\"]\n",
    "        size=model_settings[\"img_size\"]\n",
    "                \n",
    "        h5_model=current_dir+'/Results/Pretrained_train/'+name+'.h5'\n",
    "        \n",
    "        model=tf.keras.models.load_model(h5_model)\n",
    "        if combinations==False:\n",
    "            X_test=test_generator(x_images,size,bri,False)\n",
    "        else:\n",
    "            X_test=test_generator(x_images,size,bri,True)\n",
    "\n",
    "        y_pred = model.predict(X_test)\n",
    "        y_pred=np.argmax(y_pred,axis=1)\n",
    "        \n",
    "        label_mapper = {v: k for k, v in valid.class_indices.items()}\n",
    "        y_pred = list(map(lambda x: label_mapper[x], y_pred))\n",
    "        val_acc=accuracy_score(y_pred,y_test)\n",
    "        \n",
    "        params=model.count_params()\n",
    "        \n",
    "        tmp={\"Model\": name,\n",
    "         \"Accuracy\": val_acc,\n",
    "         \"Number of parameters\": params\n",
    "             }\n",
    "        results.append(tmp)\n",
    "        \n",
    "    return pd.DataFrame(results)"
   ]
  },
  {
   "cell_type": "code",
   "execution_count": 52,
   "metadata": {
    "execution": {
     "iopub.execute_input": "2021-12-02T13:42:46.189946Z",
     "iopub.status.busy": "2021-12-02T13:42:46.189675Z",
     "iopub.status.idle": "2021-12-02T14:02:36.015001Z",
     "shell.execute_reply": "2021-12-02T14:02:36.014246Z",
     "shell.execute_reply.started": "2021-12-02T13:42:46.189916Z"
    }
   },
   "outputs": [],
   "source": [
    "results_180=predictions(settings,x_images,180, False)\n",
    "results_180.to_csv(current_dir+'/Results/Pretrained_attack/Pre_Trained_results_attack_180.csv')\n",
    "\n",
    "results_80=predictions(settings, x_images,-80, False)\n",
    "results_80.to_csv(current_dir+'/Results/Pretrained_attack/Pre_Trained_results_attack_80.csv')\n",
    "\n",
    "results_combined=predictions(settings, x_images,-80, True)\n",
    "results_combined.to_csv(current_dir+'/Results/Pretrained_attack/Pre_Trained_results_attack_combined.csv')"
   ]
  }
 ],
 "metadata": {
  "kernelspec": {
   "display_name": "Python 3 (ipykernel)",
   "language": "python",
   "name": "python3"
  },
  "language_info": {
   "codemirror_mode": {
    "name": "ipython",
    "version": 3
   },
   "file_extension": ".py",
   "mimetype": "text/x-python",
   "name": "python",
   "nbconvert_exporter": "python",
   "pygments_lexer": "ipython3",
   "version": "3.7.11"
  }
 },
 "nbformat": 4,
 "nbformat_minor": 4
}
