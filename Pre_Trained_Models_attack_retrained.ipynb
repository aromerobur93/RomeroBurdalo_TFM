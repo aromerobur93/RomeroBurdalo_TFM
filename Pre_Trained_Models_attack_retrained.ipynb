{
 "cells": [
  {
   "cell_type": "code",
   "execution_count": 1,
   "id": "25beeed2",
   "metadata": {
    "execution": {
     "iopub.execute_input": "2021-12-09T18:08:30.758735Z",
     "iopub.status.busy": "2021-12-09T18:08:30.757207Z",
     "iopub.status.idle": "2021-12-09T18:08:36.369698Z",
     "shell.execute_reply": "2021-12-09T18:08:36.369087Z",
     "shell.execute_reply.started": "2021-12-08T12:14:53.413228Z"
    },
    "id": "rSWm08TINv9w",
    "papermill": {
     "duration": 5.630768,
     "end_time": "2021-12-09T18:08:36.369878",
     "exception": false,
     "start_time": "2021-12-09T18:08:30.739110",
     "status": "completed"
    },
    "tags": []
   },
   "outputs": [],
   "source": [
    "# Carga de librerias\n",
    "import numpy as np \n",
    "import pandas as pd \n",
    "import os\n",
    "import seaborn as sns\n",
    "import matplotlib.pyplot as plt\n",
    "import cv2\n",
    "import glob\n",
    "import os\n",
    "from PIL import Image\n",
    "from itertools import chain\n",
    "from collections import Counter\n",
    "from tensorflow.keras.models import Sequential, Model\n",
    "from tensorflow.keras.layers import Conv2D, MaxPool2D, Dense, Flatten, Dropout\n",
    "from tensorflow.keras.layers.experimental.preprocessing import Resizing\n",
    "from tensorflow.keras.callbacks import EarlyStopping\n",
    "from tensorflow.keras.optimizers import Adam\n",
    "from tensorflow.keras.preprocessing.image import ImageDataGenerator\n",
    "from sklearn.model_selection import train_test_split\n",
    "from tensorflow.keras.utils import to_categorical\n",
    "import tensorflow as tf\n",
    "from tensorflow.keras.preprocessing.image import DirectoryIterator\n",
    "from tensorflow.keras.preprocessing.image import load_img, img_to_array\n",
    "from sklearn.metrics import accuracy_score\n",
    "from keras import backend as K\n",
    "from itertools import chain\n",
    "from tensorflow.keras.applications.resnet import ResNet50\n",
    "from tensorflow.keras.applications.efficientnet import EfficientNetB0\n",
    "from tensorflow.keras.applications.inception_v3 import InceptionV3\n",
    "from tensorflow.keras.applications.densenet import DenseNet121\n",
    "# Definición de las variables globales\n",
    "IMG_SIZE=32\n",
    "NUM_CHANNELS=3\n",
    "NUM_CLASSES=43\n",
    "from random import sample, seed\n",
    "seed(3)"
   ]
  },
  {
   "cell_type": "code",
   "execution_count": 3,
   "id": "68a6b785",
   "metadata": {
    "execution": {
     "iopub.execute_input": "2021-12-09T18:08:36.450625Z",
     "iopub.status.busy": "2021-12-09T18:08:36.450123Z",
     "iopub.status.idle": "2021-12-09T18:08:36.724783Z",
     "shell.execute_reply": "2021-12-09T18:08:36.724303Z",
     "shell.execute_reply.started": "2021-12-08T12:14:53.444982Z"
    },
    "id": "RwwDMe-dODQr",
    "papermill": {
     "duration": 0.292484,
     "end_time": "2021-12-09T18:08:36.724952",
     "exception": false,
     "start_time": "2021-12-09T18:08:36.432468",
     "status": "completed"
    },
    "tags": []
   },
   "outputs": [],
   "source": [
    "# Declaración de los directorios\n",
    "current_dir=os.getcwd()\n",
    "dataset_dir=current_dir+\"/Dataset\"\n",
    "dir_train=dataset_dir+\"/Train\"\n",
    "train_data=pd.read_csv(dataset_dir+\"/Train.csv\")\n",
    "test_data=pd.read_csv(dataset_dir+\"/Test.csv\")\n",
    "meta_data=pd.read_csv(dataset_dir+\"/Meta.csv\")\n",
    "\n",
    "x_images=test_data[\"Path\"]\n",
    "x_train_images=train_data[\"Path\"]\n",
    "x_train_labels=train_data[['ClassId']].to_numpy()\n",
    "y_test=test_data[['ClassId']].values"
   ]
  },
  {
   "cell_type": "code",
   "execution_count": null,
   "id": "c7e3b35c",
   "metadata": {},
   "outputs": [],
   "source": [
    "path_180=\"Train_180\"\n",
    "path_80=\"Train_80\"\n",
    "path_combined=\"Train_combined\"\n",
    "dir_train_180=dataset_dir+\"/\"+path_180\n",
    "dir_train_80=dataset_dir+\"/\"+path_80\n",
    "dir_train_combined=dataset_dir+\"/\"+path_combined\n",
    "copy_tree(dir_train,dir_train_180)\n",
    "copy_tree(dir_train,dir_train_80)\n",
    "copy_tree(dir_train,dir_train_combined)"
   ]
  },
  {
   "cell_type": "code",
   "execution_count": 5,
   "id": "be0d88d6",
   "metadata": {
    "execution": {
     "iopub.execute_input": "2021-12-09T18:12:19.487337Z",
     "iopub.status.busy": "2021-12-09T18:12:19.486325Z",
     "iopub.status.idle": "2021-12-09T18:12:19.490486Z",
     "shell.execute_reply": "2021-12-09T18:12:19.490047Z",
     "shell.execute_reply.started": "2021-12-08T12:16:40.896046Z"
    },
    "papermill": {
     "duration": 0.025029,
     "end_time": "2021-12-09T18:12:19.490610",
     "exception": false,
     "start_time": "2021-12-09T18:12:19.465581",
     "status": "completed"
    },
    "tags": []
   },
   "outputs": [],
   "source": [
    "def prepare_train_images(path,brig, x_train_images comb=False):\n",
    "    \n",
    "    if comb==False:\n",
    "        for name in x_train_images:\n",
    "            im=name.replace(\"Train\", path)\n",
    "            image=cv2.imread(dataset_dir+\"/\"+im)\n",
    "            image=change_brightness(image, brig)\n",
    "            cv2.imwrite(im,image)\n",
    "    else:\n",
    "        for i,name in enumerate(x_train_images):\n",
    "            im=name.replace(\"Train\", path)\n",
    "            image=cv2.imread(im)\n",
    "            if i<=len(x_train_images_2)/2:\n",
    "                image=change_brightness(image, -80)\n",
    "            else:\n",
    "                image=change_brightness(image, 180)\n",
    "            cv2.imwrite(im,image)\n",
    "    path=\"./\"+path\n",
    "    return path\n"
   ]
  },
  {
   "cell_type": "code",
   "execution_count": 6,
   "id": "29604f39",
   "metadata": {
    "execution": {
     "iopub.execute_input": "2021-12-09T18:12:19.525482Z",
     "iopub.status.busy": "2021-12-09T18:12:19.524593Z",
     "iopub.status.idle": "2021-12-09T18:12:19.526334Z",
     "shell.execute_reply": "2021-12-09T18:12:19.526849Z",
     "shell.execute_reply.started": "2021-12-08T12:16:40.905562Z"
    },
    "id": "o5RsinLQpHmP",
    "papermill": {
     "duration": 0.023551,
     "end_time": "2021-12-09T18:12:19.526995",
     "exception": false,
     "start_time": "2021-12-09T18:12:19.503444",
     "status": "completed"
    },
    "tags": []
   },
   "outputs": [],
   "source": [
    "# Inception\n",
    "def train_data(size,shear,rotation,brig,dir_train_brig):\n",
    "    # Definimos el data generator\n",
    "    train_datagen = ImageDataGenerator(\n",
    "        rescale=1 / 255.0,\n",
    "        validation_split=0.2,\n",
    "        shear_range=shear,\n",
    "        rotation_range=rotation,\n",
    "        brightness_range=brig\n",
    "    )\n",
    "\n",
    "    # Generamos los datos de entrenamiento\n",
    "    train_generator = train_datagen.flow_from_directory(\n",
    "        directory=dir_train_brig,\n",
    "        target_size=size,\n",
    "        class_mode=\"categorical\",\n",
    "        subset='training',\n",
    "        shuffle=True,\n",
    "        seed=3)\n",
    "\n",
    "\n",
    "    # Generamos los datos de vaidacion\n",
    "    valid_generator = train_datagen.flow_from_directory(\n",
    "        directory=dir_train_brig,\n",
    "        target_size=size,\n",
    "        class_mode=\"categorical\",\n",
    "        subset='validation',\n",
    "        shuffle=True,\n",
    "        seed=3)\n",
    "    return train_generator,valid_generator"
   ]
  },
  {
   "cell_type": "code",
   "execution_count": 7,
   "id": "6c2f8ca4",
   "metadata": {
    "execution": {
     "iopub.execute_input": "2021-12-09T18:12:19.558582Z",
     "iopub.status.busy": "2021-12-09T18:12:19.557634Z",
     "iopub.status.idle": "2021-12-09T18:12:19.560332Z",
     "shell.execute_reply": "2021-12-09T18:12:19.559908Z",
     "shell.execute_reply.started": "2021-12-08T12:16:40.916531Z"
    },
    "id": "3cmCaw8qtzP7",
    "papermill": {
     "duration": 0.020486,
     "end_time": "2021-12-09T18:12:19.560447",
     "exception": false,
     "start_time": "2021-12-09T18:12:19.539961",
     "status": "completed"
    },
    "tags": []
   },
   "outputs": [],
   "source": [
    "def weights_train(train_data):\n",
    "    # Contamos el numero de valores por clase\n",
    "    counter = Counter(train_data.classes)\n",
    "    # Almacenamos los valores máximos\n",
    "    max_val = float(max(counter.values()))\n",
    "    # Calculamos los pesos\n",
    "    class_weights = {class_id : max_val/num_images for class_id, num_images in counter.items()}                     \n",
    "    return class_weights"
   ]
  },
  {
   "cell_type": "code",
   "execution_count": 8,
   "id": "23720588",
   "metadata": {
    "execution": {
     "iopub.execute_input": "2021-12-09T18:12:19.592614Z",
     "iopub.status.busy": "2021-12-09T18:12:19.591714Z",
     "iopub.status.idle": "2021-12-09T18:12:19.593562Z",
     "shell.execute_reply": "2021-12-09T18:12:19.594035Z",
     "shell.execute_reply.started": "2021-12-08T12:16:40.929681Z"
    },
    "id": "9V4aZOwbWwmj",
    "papermill": {
     "duration": 0.020795,
     "end_time": "2021-12-09T18:12:19.594183",
     "exception": false,
     "start_time": "2021-12-09T18:12:19.573388",
     "status": "completed"
    },
    "tags": []
   },
   "outputs": [],
   "source": [
    "settings = {\n",
    "    'inceptionV3': {\n",
    "        'model': InceptionV3,\n",
    "        'img_size': (150, 150),\n",
    "        'shear': 0.2,\n",
    "        'brig': None,\n",
    "        'rotation': None\n",
    "    },\n",
    "    'resnet50': {\n",
    "        'model': ResNet50,\n",
    "        'img_size': (224, 224),\n",
    "        'shear': 0.2,\n",
    "        'brig': [0.8,0.8],\n",
    "        'rotation': None   \n",
    "    },\n",
    "    'DenseNet121': {\n",
    "        'model': DenseNet121,\n",
    "        'img_size': (224, 224),\n",
    "        'shear': 0.2,\n",
    "        'brig': None,\n",
    "        'rotation': None    }\n",
    "}"
   ]
  },
  {
   "cell_type": "code",
   "execution_count": 9,
   "id": "12c9be7a",
   "metadata": {
    "execution": {
     "iopub.execute_input": "2021-12-09T18:12:19.628256Z",
     "iopub.status.busy": "2021-12-09T18:12:19.622217Z",
     "iopub.status.idle": "2021-12-09T18:12:19.630361Z",
     "shell.execute_reply": "2021-12-09T18:12:19.630767Z",
     "shell.execute_reply.started": "2021-12-08T12:16:40.938342Z"
    },
    "papermill": {
     "duration": 0.024089,
     "end_time": "2021-12-09T18:12:19.630943",
     "exception": false,
     "start_time": "2021-12-09T18:12:19.606854",
     "status": "completed"
    },
    "tags": []
   },
   "outputs": [],
   "source": [
    "def test_generator(test_data,img_size,brig,comb=False):\n",
    "    # Recorremos todas las imágenes\n",
    "    for i,image_path in enumerate(test_data):\n",
    "        if comb==False:\n",
    "            \n",
    "            # Para cada imagen realizamos un resizing y lo convertimos en un array \n",
    "            image = load_img(dir_dataset+\"/\"+image_path, target_size=img_size)\n",
    "            image_array = img_to_array(image)\n",
    "            image_array=change_brightness(image_array,brig)\n",
    "            image_array=image_array/255\n",
    "            image_array = np.array([image_array])\n",
    "        else:\n",
    "            if i<=len(test_data)/2:\n",
    "                image = load_img(dir_dataset+\"/\"+image_path, target_size=img_size)\n",
    "                image_array = img_to_array(image)\n",
    "                image_array=change_brightness(image_array,180)\n",
    "                image_array=image_array/255\n",
    "                image_array = np.array([image_array])\n",
    "            else:\n",
    "                image = load_img(dir_dataset+\"/\"+image_path, target_size=img_size)\n",
    "                image_array = img_to_array(image)\n",
    "                image_array=change_brightness(image_array,-80)\n",
    "                image_array=image_array/255\n",
    "                image_array = np.array([image_array])\n",
    "                \n",
    "        # Pasamos la imagen a la función de preprocesado utilizada en el modelo\n",
    "        yield image_array"
   ]
  },
  {
   "cell_type": "code",
   "execution_count": 10,
   "id": "2d2e1193",
   "metadata": {
    "execution": {
     "iopub.execute_input": "2021-12-09T18:12:19.663782Z",
     "iopub.status.busy": "2021-12-09T18:12:19.662865Z",
     "iopub.status.idle": "2021-12-09T18:12:19.664762Z",
     "shell.execute_reply": "2021-12-09T18:12:19.665276Z",
     "shell.execute_reply.started": "2021-12-08T12:16:40.950706Z"
    },
    "papermill": {
     "duration": 0.021714,
     "end_time": "2021-12-09T18:12:19.665420",
     "exception": false,
     "start_time": "2021-12-09T18:12:19.643706",
     "status": "completed"
    },
    "tags": []
   },
   "outputs": [],
   "source": [
    "def change_brightness(img, value):\n",
    "    hsv = cv2.cvtColor(img, cv2.COLOR_BGR2HSV)\n",
    "    h, s, v = cv2.split(hsv)\n",
    "    v = cv2.add(v,value)\n",
    "    v[v > 255] = 255\n",
    "    v[v < 0] = 0\n",
    "    final_hsv = cv2.merge((h, s, v))\n",
    "    img = cv2.cvtColor(final_hsv, cv2.COLOR_HSV2BGR)\n",
    "    return img"
   ]
  },
  {
   "cell_type": "code",
   "execution_count": 11,
   "id": "75951948",
   "metadata": {
    "execution": {
     "iopub.execute_input": "2021-12-09T18:12:19.699169Z",
     "iopub.status.busy": "2021-12-09T18:12:19.698266Z",
     "iopub.status.idle": "2021-12-09T18:12:19.700046Z",
     "shell.execute_reply": "2021-12-09T18:12:19.700538Z",
     "shell.execute_reply.started": "2021-12-08T12:16:40.961481Z"
    },
    "papermill": {
     "duration": 0.021992,
     "end_time": "2021-12-09T18:12:19.700687",
     "exception": false,
     "start_time": "2021-12-09T18:12:19.678695",
     "status": "completed"
    },
    "tags": []
   },
   "outputs": [],
   "source": [
    "def predictions (model,size,x_images, valid,bri,combinations=False):\n",
    "    results=[]\n",
    "    models=[]\n",
    "    \n",
    "    if combinations==False:\n",
    "        X_test=test_generator(x_images,size,bri,False)\n",
    "    else:\n",
    "        X_test=test_generator(x_images,size,bri,True)\n",
    "\n",
    "    y_pred = model.predict(X_test)\n",
    "    y_pred=np.argmax(y_pred,axis=1)\n",
    "        \n",
    "    label_mapper = {v: k for k, v in valid.class_indices.items()}\n",
    "    y_pred = list(map(lambda x: label_mapper[x], y_pred))\n",
    "    val_acc=accuracy_score(y_pred,y_test)\n",
    "        \n",
    "    params=model.count_params()\n",
    "        \n",
    "    return val_acc,params"
   ]
  },
  {
   "cell_type": "code",
   "execution_count": 12,
   "id": "2b77ea5b",
   "metadata": {
    "execution": {
     "iopub.execute_input": "2021-12-09T18:12:19.736666Z",
     "iopub.status.busy": "2021-12-09T18:12:19.735791Z",
     "iopub.status.idle": "2021-12-09T18:12:19.738267Z",
     "shell.execute_reply": "2021-12-09T18:12:19.737730Z",
     "shell.execute_reply.started": "2021-12-08T12:16:40.973596Z"
    },
    "papermill": {
     "duration": 0.024816,
     "end_time": "2021-12-09T18:12:19.738381",
     "exception": false,
     "start_time": "2021-12-09T18:12:19.713565",
     "status": "completed"
    },
    "tags": []
   },
   "outputs": [],
   "source": [
    "def retrain_imagenet_models (settings,dir_train_brig,bri,combinations=False):\n",
    "    results=[]\n",
    "    models=[]\n",
    "    history_results=[]\n",
    "    dir_train=prepare_train_images(dir_train_brig,bri, combinations)\n",
    "    for name, model_settings in settings.items():\n",
    "        model=model_settings['model']\n",
    "        size=model_settings[\"img_size\"]\n",
    "        brig=model_settings[\"brig\"]\n",
    "        shear=model_settings[\"shear\"]\n",
    "        rotation=model_settings[\"rotation\"]\n",
    "        \n",
    "        model_name=current_dir+'/Results/Pretrained_train/'+name+'.h5'\n",
    "        h5_model=tf.keras.models.load_model(model_name)\n",
    "        train,valid=train_data(size,shear,rotation,brig,dir_train)\n",
    "        weights=weights_train(train)\n",
    "        callback=EarlyStopping(monitor='val_loss', verbose=1, patience=6,restore_best_weights=True)\n",
    "        # Entrenamos el modelo\n",
    "        history = h5_model.fit(train ,validation_data=(valid), \n",
    "                                                  epochs=15, verbose=1, callbacks=[callback], class_weight=weights)\n",
    "        history_results.append((history,name))\n",
    "        \n",
    "        val_acc,params=predictions(h5_model,size,x_images,valid,bri,combinations)\n",
    "        \n",
    "        tmp={\"Model\": name,\n",
    "         \"Accuracy\": val_acc,\n",
    "         \"Number of parameters\": params\n",
    "             }\n",
    "        results.append(tmp)\n",
    "        model_name=current_dir+'/Results/Pretrained_defense/'+name+'.h5'\n",
    "        h5_model.save(model_name)\n",
    "        \n",
    "        \n",
    "    return history_results,pd.DataFrame(results)\n",
    "    "
   ]
  },
  {
   "cell_type": "code",
   "execution_count": 13,
   "id": "94210c4d",
   "metadata": {
    "execution": {
     "iopub.execute_input": "2021-12-09T18:12:19.771209Z",
     "iopub.status.busy": "2021-12-09T18:12:19.770358Z",
     "iopub.status.idle": "2021-12-09T18:12:19.772820Z",
     "shell.execute_reply": "2021-12-09T18:12:19.772353Z",
     "shell.execute_reply.started": "2021-12-08T12:16:40.988011Z"
    },
    "papermill": {
     "duration": 0.021538,
     "end_time": "2021-12-09T18:12:19.772943",
     "exception": false,
     "start_time": "2021-12-09T18:12:19.751405",
     "status": "completed"
    },
    "tags": []
   },
   "outputs": [],
   "source": [
    "def plot_history(history_model,brig):\n",
    "    list_models=[]\n",
    "    fig, (ax1) = plt.subplots(1,1, figsize=(12, 10))\n",
    "    for i,(h,model_name) in enumerate(history_model):\n",
    "        # Visualizamos la evolución de la accuracy\n",
    "        ax1.plot(h.history['val_accuracy'])\n",
    "        ax1.set_title(\"Brightness factor\"+ str(brig))\n",
    "        ax1.set_ylabel('Accuracy')\n",
    "        ax1.set_xlabel('Epoch')\n",
    "        list_models.append(str(model_name))\n",
    "    fig.legend(list_models, loc=\"right\")\n",
    "# Visualizamos la evolución del error cometido por la red\n",
    "    plt.show()"
   ]
  },
  {
   "cell_type": "code",
   "execution_count": null,
   "id": "c7262e0f",
   "metadata": {},
   "outputs": [],
   "source": [
    "history_80,result_80=retrain_imagenet_models(settings,path_80,-80,combinations=False)\n",
    "plot_history(history_combined,\"Factor -80\")\n",
    "result_80.to_csv(current_dir+'/Results/Pretrained_attack/Pre_Trained_retrained_80.csv')\n",
    "\n",
    "history_180,result_180=retrain_imagenet_models(settings,path_180,180,combinations=False)\n",
    "plot_history(history_combined,\"Factori 180\")\n",
    "result_180.to_csv(current_dir+'/Results/Pretrained_attack/Pre_Trained_retrained_180.csv')\n",
    "\n",
    "history_combined,result_combined=retrain_imagenet_models(settings,path_combined,180,combinations=True)\n",
    "plot_history(history_combined,\"Combined\")\n",
    "result_combined.to_csv(current_dir+'/Results/Pretrained_attack/Pre_Trained_retrained_combined.csv')"
   ]
  }
 ],
 "metadata": {
  "kernelspec": {
   "display_name": "Python 3 (ipykernel)",
   "language": "python",
   "name": "python3"
  },
  "language_info": {
   "codemirror_mode": {
    "name": "ipython",
    "version": 3
   },
   "file_extension": ".py",
   "mimetype": "text/x-python",
   "name": "python",
   "nbconvert_exporter": "python",
   "pygments_lexer": "ipython3",
   "version": "3.7.11"
  },
  "papermill": {
   "default_parameters": {},
   "duration": 11383.011295,
   "end_time": "2021-12-09T21:18:05.989733",
   "environment_variables": {},
   "exception": null,
   "input_path": "__notebook__.ipynb",
   "output_path": "__notebook__.ipynb",
   "parameters": {},
   "start_time": "2021-12-09T18:08:22.978438",
   "version": "2.3.3"
  }
 },
 "nbformat": 4,
 "nbformat_minor": 5
}
