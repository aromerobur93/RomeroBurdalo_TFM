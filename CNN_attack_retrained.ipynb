{
 "cells": [
  {
   "cell_type": "code",
   "execution_count": 1,
   "id": "9dd82432",
   "metadata": {
    "execution": {
     "iopub.execute_input": "2021-12-06T14:46:20.877949Z",
     "iopub.status.busy": "2021-12-06T14:46:20.876167Z",
     "iopub.status.idle": "2021-12-06T14:46:26.293935Z",
     "shell.execute_reply": "2021-12-06T14:46:26.293048Z",
     "shell.execute_reply.started": "2021-12-06T13:13:36.005963Z"
    },
    "executionInfo": {
     "elapsed": 3199,
     "status": "ok",
     "timestamp": 1638790110030,
     "user": {
      "displayName": "Abel Romero Búrdalo",
      "photoUrl": "https://lh3.googleusercontent.com/a-/AOh14Gibn6zHG5drIPYgDNpxiJhWjjWp9ubAoK-vrCkM=s64",
      "userId": "07269579008313204105"
     },
     "user_tz": -60
    },
    "id": "rSWm08TINv9w",
    "papermill": {
     "duration": 5.435965,
     "end_time": "2021-12-06T14:46:26.294102",
     "exception": false,
     "start_time": "2021-12-06T14:46:20.858137",
     "status": "completed"
    },
    "tags": []
   },
   "outputs": [],
   "source": [
    "# Carga de librerias\n",
    "import numpy as np \n",
    "import pandas as pd \n",
    "import os\n",
    "import seaborn as sns\n",
    "import matplotlib.pyplot as plt\n",
    "import cv2\n",
    "import glob\n",
    "import os\n",
    "from PIL import Image\n",
    "from itertools import chain\n",
    "from collections import Counter\n",
    "from tensorflow.keras.models import Sequential, Model\n",
    "from tensorflow.keras.layers import Conv2D, MaxPool2D, Dense, Flatten, Dropout\n",
    "from tensorflow.keras.layers.experimental.preprocessing import Resizing\n",
    "from tensorflow.keras.callbacks import EarlyStopping\n",
    "from tensorflow.keras.optimizers import Adam\n",
    "from tensorflow.keras.preprocessing.image import ImageDataGenerator\n",
    "from sklearn.model_selection import train_test_split\n",
    "from tensorflow.keras.utils import to_categorical\n",
    "import tensorflow as tf\n",
    "from tensorflow.keras.preprocessing.image import DirectoryIterator\n",
    "from tensorflow.keras.preprocessing.image import load_img, img_to_array\n",
    "from sklearn.metrics import accuracy_score\n",
    "from keras import backend as K\n",
    "from itertools import chain\n",
    "# Definición de las variables globales\n",
    "IMG_SIZE=32\n",
    "NUM_CHANNELS=3\n",
    "NUM_CLASSES=43\n"
   ]
  },
  {
   "cell_type": "code",
   "execution_count": 3,
   "id": "61154b3c",
   "metadata": {
    "execution": {
     "iopub.execute_input": "2021-12-06T14:46:26.359067Z",
     "iopub.status.busy": "2021-12-06T14:46:26.358252Z",
     "iopub.status.idle": "2021-12-06T14:46:26.586812Z",
     "shell.execute_reply": "2021-12-06T14:46:26.587285Z"
    },
    "executionInfo": {
     "elapsed": 440,
     "status": "ok",
     "timestamp": 1638790168612,
     "user": {
      "displayName": "Abel Romero Búrdalo",
      "photoUrl": "https://lh3.googleusercontent.com/a-/AOh14Gibn6zHG5drIPYgDNpxiJhWjjWp9ubAoK-vrCkM=s64",
      "userId": "07269579008313204105"
     },
     "user_tz": -60
    },
    "id": "RwwDMe-dODQr",
    "papermill": {
     "duration": 0.241042,
     "end_time": "2021-12-06T14:46:26.587440",
     "exception": false,
     "start_time": "2021-12-06T14:46:26.346398",
     "status": "completed"
    },
    "tags": []
   },
   "outputs": [],
   "source": [
    "# Declaración de los directorios\n",
    "current_dir=os.getcwd()\n",
    "dataset_dir=current_dir+\"/Dataset\"\n",
    "dir_train=dataset_dir+\"/Train\"\n",
    "train_data=pd.read_csv(dataset_dir+\"/Train.csv\")\n",
    "test_data=pd.read_csv(dataset_dir+\"/Test.csv\")\n",
    "meta_data=pd.read_csv(dataset_dir+\"/Meta.csv\")\n",
    "\n",
    "x_images=test_data[\"Path\"]\n",
    "x_train_images=train_data[\"Path\"]\n",
    "x_train_labels=train_data[['ClassId']].to_numpy()\n",
    "y_test=test_data[['ClassId']].values\n",
    "\n"
   ]
  },
  {
   "cell_type": "code",
   "execution_count": 4,
   "id": "4f389054",
   "metadata": {
    "execution": {
     "iopub.execute_input": "2021-12-06T14:46:26.616378Z",
     "iopub.status.busy": "2021-12-06T14:46:26.615590Z",
     "iopub.status.idle": "2021-12-06T14:46:26.618075Z",
     "shell.execute_reply": "2021-12-06T14:46:26.617668Z"
    },
    "executionInfo": {
     "elapsed": 5,
     "status": "ok",
     "timestamp": 1638790168613,
     "user": {
      "displayName": "Abel Romero Búrdalo",
      "photoUrl": "https://lh3.googleusercontent.com/a-/AOh14Gibn6zHG5drIPYgDNpxiJhWjjWp9ubAoK-vrCkM=s64",
      "userId": "07269579008313204105"
     },
     "user_tz": -60
    },
    "id": "ZSR3EIvMmEKl",
    "papermill": {
     "duration": 0.019809,
     "end_time": "2021-12-06T14:46:26.618184",
     "exception": false,
     "start_time": "2021-12-06T14:46:26.598375",
     "status": "completed"
    },
    "tags": []
   },
   "outputs": [],
   "source": [
    "# Generacion de los datos de entrenamiento\n",
    "def generate_train_data(IMG_SIZE, x_train_images,x_labels,brig):\n",
    "    data=[]\n",
    "    labels=x_labels\n",
    "    for i in x_train_images:\n",
    "        try:\n",
    "            image=cv2.imread(dataset_dir+\"/\"+i)\n",
    "            image=change_brightness(image,brig)\n",
    "            image_from_array = Image.fromarray(image, 'RGB')\n",
    "            size_image = image_from_array.resize((IMG_SIZE, IMG_SIZE))\n",
    "            data.append(np.array(size_image))\n",
    "        except AttributeError:\n",
    "            print(\"Error\")\n",
    "    data = np.array(data)\n",
    "    labels = np.array(labels.ravel())\n",
    "    shuffle_indexes = np.arange(data.shape[0])\n",
    "    np.random.shuffle(shuffle_indexes)\n",
    "    data = data[shuffle_indexes]\n",
    "    labels = labels[shuffle_indexes]\n",
    "    X_train, X_val, y_train, y_val = train_test_split(data, labels, test_size=0.2, random_state=42, shuffle=True)\n",
    "\n",
    "    X_train = X_train/255 \n",
    "    X_val = X_val/255\n",
    "\n",
    "    y_train = to_categorical(y_train, NUM_CLASSES)\n",
    "    y_val = to_categorical(y_val, NUM_CLASSES)\n",
    "\n",
    "    return X_train, X_val, y_train,y_val  \n"
   ]
  },
  {
   "cell_type": "code",
   "execution_count": 5,
   "id": "5289e5c6",
   "metadata": {
    "execution": {
     "iopub.execute_input": "2021-12-06T14:46:26.644268Z",
     "iopub.status.busy": "2021-12-06T14:46:26.642714Z",
     "iopub.status.idle": "2021-12-06T14:46:26.644911Z",
     "shell.execute_reply": "2021-12-06T14:46:26.645306Z"
    },
    "executionInfo": {
     "elapsed": 17,
     "status": "ok",
     "timestamp": 1638790169971,
     "user": {
      "displayName": "Abel Romero Búrdalo",
      "photoUrl": "https://lh3.googleusercontent.com/a-/AOh14Gibn6zHG5drIPYgDNpxiJhWjjWp9ubAoK-vrCkM=s64",
      "userId": "07269579008313204105"
     },
     "user_tz": -60
    },
    "id": "Tda75D3FISut",
    "papermill": {
     "duration": 0.017401,
     "end_time": "2021-12-06T14:46:26.645423",
     "exception": false,
     "start_time": "2021-12-06T14:46:26.628022",
     "status": "completed"
    },
    "tags": []
   },
   "outputs": [],
   "source": [
    "# Función que cambia el brillo\n",
    "def change_brightness(img, value):\n",
    "    hsv = cv2.cvtColor(img, cv2.COLOR_BGR2HSV)\n",
    "    h, s, v = cv2.split(hsv)\n",
    "    v = cv2.add(v,value)\n",
    "    v[v > 255] = 255\n",
    "    v[v < 0] = 0\n",
    "    final_hsv = cv2.merge((h, s, v))\n",
    "    img = cv2.cvtColor(final_hsv, cv2.COLOR_HSV2BGR)\n",
    "    return img"
   ]
  },
  {
   "cell_type": "code",
   "execution_count": 6,
   "id": "d4ab745d",
   "metadata": {
    "execution": {
     "iopub.execute_input": "2021-12-06T14:46:26.672602Z",
     "iopub.status.busy": "2021-12-06T14:46:26.671886Z",
     "iopub.status.idle": "2021-12-06T14:46:26.674277Z",
     "shell.execute_reply": "2021-12-06T14:46:26.673844Z"
    },
    "executionInfo": {
     "elapsed": 525,
     "status": "ok",
     "timestamp": 1638795370461,
     "user": {
      "displayName": "Abel Romero Búrdalo",
      "photoUrl": "https://lh3.googleusercontent.com/a-/AOh14Gibn6zHG5drIPYgDNpxiJhWjjWp9ubAoK-vrCkM=s64",
      "userId": "07269579008313204105"
     },
     "user_tz": -60
    },
    "id": "pVbuM2C98d9k",
    "papermill": {
     "duration": 0.019011,
     "end_time": "2021-12-06T14:46:26.674377",
     "exception": false,
     "start_time": "2021-12-06T14:46:26.655366",
     "status": "completed"
    },
    "tags": []
   },
   "outputs": [],
   "source": [
    "# Generacion datos de test\n",
    "def test_data(test_data, IMG_SIZE,brig):\n",
    "    data=[]\n",
    "    for i in test_data:\n",
    "        try:\n",
    "            image=cv2.imread(dataset_dir+\"/\"+i)\n",
    "            image=change_brightness(image,brig)\n",
    "            image_from_array = Image.fromarray(image, 'RGB')\n",
    "            size_image = image_from_array.resize((IMG_SIZE, IMG_SIZE))\n",
    "            data.append(np.array(size_image))\n",
    "        except AttributeError:\n",
    "            print(\"Error\")\n",
    "    X_test=np.array(data)\n",
    "    X_test=X_test.astype('float32')/255\n",
    "    return X_test"
   ]
  },
  {
   "cell_type": "code",
   "execution_count": 7,
   "id": "40adb0d8",
   "metadata": {
    "execution": {
     "iopub.execute_input": "2021-12-06T14:46:26.702952Z",
     "iopub.status.busy": "2021-12-06T14:46:26.697317Z",
     "iopub.status.idle": "2021-12-06T14:46:26.704924Z",
     "shell.execute_reply": "2021-12-06T14:46:26.705289Z"
    },
    "executionInfo": {
     "elapsed": 9,
     "status": "ok",
     "timestamp": 1638790169972,
     "user": {
      "displayName": "Abel Romero Búrdalo",
      "photoUrl": "https://lh3.googleusercontent.com/a-/AOh14Gibn6zHG5drIPYgDNpxiJhWjjWp9ubAoK-vrCkM=s64",
      "userId": "07269579008313204105"
     },
     "user_tz": -60
    },
    "id": "o5fDOW1gH6G1",
    "papermill": {
     "duration": 0.02107,
     "end_time": "2021-12-06T14:46:26.705406",
     "exception": false,
     "start_time": "2021-12-06T14:46:26.684336",
     "status": "completed"
    },
    "tags": []
   },
   "outputs": [],
   "source": [
    "# Configuracion de los modelos CNN\n",
    "settings_trained_models = {\n",
    "    'cnn_92': {\n",
    "        'conv': [64,64,64],\n",
    "        'dens': [256,256],\n",
    "        'name': \"cnn_92\"\n",
    "    },\n",
    "    'cnn_74': {\n",
    "        'conv': [16,64,64],\n",
    "        'dens': [128,128],\n",
    "        'name': \"cnn_74\"\n",
    "    },\n",
    "    'cnn_17': {\n",
    "        'conv': [32,64,64],\n",
    "        'dens': [],\n",
    "        'name': \"cnn_17\"\n",
    "    },\n",
    "    'cnn_82': {\n",
    "        'conv': [32,32,64],\n",
    "        'dens': [256,256],\n",
    "        'name': \"cnn_82\"\n",
    "    },\n",
    "\n",
    "    'cnn_54': {\n",
    "        'conv': [16,16,32],\n",
    "        'dens': [128,128],\n",
    "        'name': \"cnn_54\"\n",
    "    },\n",
    "    'cnn_67': {\n",
    "        'conv': [16,32,64],\n",
    "        'dens': [256,256],\n",
    "        'name': \"cnn_67\"\n",
    "    },\n",
    "    'cnn_91': {\n",
    "        'conv': [64,64,64],\n",
    "        'dens': [128],\n",
    "        'name': \"cnn_91\"\n",
    "    },\n",
    "    'cnn_61': {\n",
    "        'conv': [16,32,32],\n",
    "        'dens': [128],\n",
    "        'name': \"cnn_61\"\n",
    "    },\n",
    "    'cnn_66': {\n",
    "        'conv': [16,32,64],\n",
    "        'dens': [128],\n",
    "        'name': \"cnn_66\"\n",
    "    },\n",
    "    'cnn_84': {\n",
    "        'conv': [32,32,64],\n",
    "        'dens': [128,128],\n",
    "        'name': \"cnn_84\"\n",
    "    },\n",
    "       \n",
    "}"
   ]
  },
  {
   "cell_type": "code",
   "execution_count": 8,
   "id": "aa68bb51",
   "metadata": {
    "execution": {
     "iopub.execute_input": "2021-12-06T14:46:26.732883Z",
     "iopub.status.busy": "2021-12-06T14:46:26.732138Z",
     "iopub.status.idle": "2021-12-06T14:46:26.734061Z",
     "shell.execute_reply": "2021-12-06T14:46:26.734429Z"
    },
    "executionInfo": {
     "elapsed": 289,
     "status": "ok",
     "timestamp": 1638795226465,
     "user": {
      "displayName": "Abel Romero Búrdalo",
      "photoUrl": "https://lh3.googleusercontent.com/a-/AOh14Gibn6zHG5drIPYgDNpxiJhWjjWp9ubAoK-vrCkM=s64",
      "userId": "07269579008313204105"
     },
     "user_tz": -60
    },
    "id": "mcPnToPQdMoR",
    "papermill": {
     "duration": 0.018943,
     "end_time": "2021-12-06T14:46:26.734576",
     "exception": false,
     "start_time": "2021-12-06T14:46:26.715633",
     "status": "completed"
    },
    "tags": []
   },
   "outputs": [],
   "source": [
    "# Reentrenamiento de los modelos\n",
    "def retrain_model(settings,X_train,X_val,y_train,y_val,X_test,y_test, brig):\n",
    "    history_results=[]\n",
    "    results=[]\n",
    "    for name, model_settings in settings.items():\n",
    "        h5_model=current_dir+'/Results/CNN_Train/'+name+'.h5'\n",
    "        model=tf.keras.models.load_model(h5_model)\n",
    "        epochs = 20\n",
    "        history = model.fit(X_train, y_train, batch_size=32, epochs=epochs, validation_data=(X_val, y_val))\n",
    "        history_results.append((history,name))\n",
    "        pred=np.argmax(model.predict(X_test), axis=-1)\n",
    "        val_acc=accuracy_score(y_test,pred)\n",
    "        result={\"Model\": name+\"_\"+str(brig),\n",
    "          \"Accuracy\": val_acc\n",
    "            }\n",
    "        results.append(result)\n",
    "        \n",
    "    results_table=pd.DataFrame(results)\n",
    "    return history_results, results_table\n",
    "      #return model, model_name, history\n"
   ]
  },
  {
   "cell_type": "code",
   "execution_count": 9,
   "id": "de40ce58",
   "metadata": {
    "execution": {
     "iopub.execute_input": "2021-12-06T14:46:26.760934Z",
     "iopub.status.busy": "2021-12-06T14:46:26.760197Z",
     "iopub.status.idle": "2021-12-06T14:46:26.762424Z",
     "shell.execute_reply": "2021-12-06T14:46:26.762028Z"
    },
    "executionInfo": {
     "elapsed": 336,
     "status": "ok",
     "timestamp": 1638792638242,
     "user": {
      "displayName": "Abel Romero Búrdalo",
      "photoUrl": "https://lh3.googleusercontent.com/a-/AOh14Gibn6zHG5drIPYgDNpxiJhWjjWp9ubAoK-vrCkM=s64",
      "userId": "07269579008313204105"
     },
     "user_tz": -60
    },
    "id": "Derp4BRNef82",
    "papermill": {
     "duration": 0.017746,
     "end_time": "2021-12-06T14:46:26.762554",
     "exception": false,
     "start_time": "2021-12-06T14:46:26.744808",
     "status": "completed"
    },
    "tags": []
   },
   "outputs": [],
   "source": [
    "# PLoteo del progreso de la precision\n",
    "def plot_history(history_model,brig):\n",
    "    list_models=[]\n",
    "    fig, (ax1) = plt.subplots(1,1, figsize=(12, 10))\n",
    "    for i,(h,model_name) in enumerate(history_model):\n",
    "   # Visualizamos la evolución de la accuracy\n",
    "        ax1.plot(h.history['val_accuracy'])\n",
    "        ax1.set_title(\"Brightness factor \"+ str(brig))\n",
    "        ax1.set_ylabel('Accuracy')\n",
    "        ax1.set_xlabel('Epoch')\n",
    "        list_models.append(str(model_name))\n",
    "    fig.legend(list_models, loc=\"right\")\n",
    "# Visualizamos la evolución del error cometido por la red\n",
    "    plt.show()\n"
   ]
  },
  {
   "cell_type": "code",
   "execution_count": null,
   "id": "e5d4dabd",
   "metadata": {},
   "outputs": [],
   "source": [
    "# Ataque factor -80\n",
    "X_train,X_val,y_train,y_val=generate_train_data(IMG_SIZE, x_train_images,x_train_labels,-80)\n",
    "X_test=test_data(x_images, IMG_SIZE,-80)\n",
    "history_80,result_80=retrain_model(settings_trained_models,X_train,X_val,y_train,y_val,X_test,y_test,-80)\n",
    "plot_history(history_80,-80)\n",
    "result_80.to_csv(current_dir+'/Results/CNN_Defense/CNN_10_retrained_80.csv')\n",
    "\n",
    "# Ataque factor 180\n",
    "X_train,X_val,y_train,y_val=generate_train_data(IMG_SIZE, x_train_images,x_train_labels,180)\n",
    "X_test=test_data(x_images, IMG_SIZE,180)\n",
    "history_180,result_180=retrain_model(settings_trained_models,X_train,X_val,y_train,y_val,X_test,y_test,180)\n",
    "plot_history(history_180,180)\n",
    "result_180.to_csv(current_dir+'/Results/CNN_Defense/CNN_10_retrained_180.csv')\n",
    "\n",
    "\n"
   ]
  },
  {
   "cell_type": "code",
   "execution_count": null,
   "id": "f7983ca8",
   "metadata": {},
   "outputs": [],
   "source": [
    "# Ataque factores -80 y 180\n",
    "train_1, train_2, label_1, label_2 = train_test_split(x_train_images, x_train_labels, test_size=0.5, random_state=42, shuffle=True)\n",
    "\n",
    "X_train_1,X_val_1,y_train_1,y_val_1=generate_train_data(IMG_SIZE, train_1,label_1,180)\n",
    "X_train_2,X_val_2,y_train_2,y_val_2=generate_train_data(IMG_SIZE, train_2,label_2,-80)\n",
    "\n",
    "X_train_combined=np.concatenate((X_train_1,X_train_2))\n",
    "y_train_combined=np.concatenate((y_train_1,y_train_2))\n",
    "\n",
    "X_val_combined=np.concatenate((X_val_1,X_val_2))\n",
    "y_val_combined=np.concatenate((y_val_1,y_val_2))\n",
    "\n",
    "X_test_1=test_data(x_images[0:int(len(x_images)/2)], IMG_SIZE,180)\n",
    "X_test_2=test_data(x_images[int(len(x_images)/2):], IMG_SIZE,-80)\n",
    "X_test_combined=np.concatenate((X_test_1,X_test_2))\n",
    "\n",
    "history_combined,result_combined=retrain_model(settings_trained_models,X_train_combined,X_val_combined,y_train_combined,y_val_combined,X_test_combined,y_test,\"combined\")\n",
    "plot_history(history_combined,\"combined\")\n",
    "result_combined.to_csv(current_dir+'/Results/CNN_Defense/CNN_10_retrained_combined.csv')"
   ]
  }
 ],
 "metadata": {
  "kernelspec": {
   "display_name": "Python 3 (ipykernel)",
   "language": "python",
   "name": "python3"
  },
  "language_info": {
   "codemirror_mode": {
    "name": "ipython",
    "version": 3
   },
   "file_extension": ".py",
   "mimetype": "text/x-python",
   "name": "python",
   "nbconvert_exporter": "python",
   "pygments_lexer": "ipython3",
   "version": "3.7.11"
  },
  "papermill": {
   "default_parameters": {},
   "duration": 3971.022621,
   "end_time": "2021-12-06T15:52:23.564606",
   "environment_variables": {},
   "exception": null,
   "input_path": "__notebook__.ipynb",
   "output_path": "__notebook__.ipynb",
   "parameters": {},
   "start_time": "2021-12-06T14:46:12.541985",
   "version": "2.3.3"
  }
 },
 "nbformat": 4,
 "nbformat_minor": 5
}
