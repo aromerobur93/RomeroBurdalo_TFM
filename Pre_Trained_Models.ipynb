{
 "cells": [
  {
   "cell_type": "code",
   "execution_count": 12,
   "metadata": {
    "execution": {
     "iopub.execute_input": "2021-12-01T08:14:07.242536Z",
     "iopub.status.busy": "2021-12-01T08:14:07.242123Z",
     "iopub.status.idle": "2021-12-01T08:14:07.253671Z",
     "shell.execute_reply": "2021-12-01T08:14:07.251858Z",
     "shell.execute_reply.started": "2021-12-01T08:14:07.242471Z"
    },
    "id": "rSWm08TINv9w"
   },
   "outputs": [],
   "source": [
    "# Carga de librerias\n",
    "import numpy as np \n",
    "import pandas as pd \n",
    "import os\n",
    "import seaborn as sns\n",
    "import matplotlib.pyplot as plt\n",
    "import cv2\n",
    "import glob\n",
    "import os\n",
    "from PIL import Image\n",
    "from itertools import chain\n",
    "from collections import Counter\n",
    "from tensorflow.keras.models import Sequential, Model\n",
    "from tensorflow.keras.layers import Conv2D, MaxPool2D, Dense, Flatten, Dropout\n",
    "from tensorflow.keras.layers.experimental.preprocessing import Resizing\n",
    "from tensorflow.keras.callbacks import EarlyStopping\n",
    "from tensorflow.keras.optimizers import Adam\n",
    "from tensorflow.keras.preprocessing.image import ImageDataGenerator\n",
    "from sklearn.model_selection import train_test_split\n",
    "from tensorflow.keras.utils import to_categorical\n",
    "import tensorflow as tf\n",
    "from tensorflow.keras.preprocessing.image import DirectoryIterator\n",
    "from tensorflow.keras.preprocessing.image import load_img, img_to_array\n",
    "from sklearn.metrics import accuracy_score\n",
    "from keras import backend as K\n",
    "from itertools import chain\n",
    "from tensorflow.keras.applications.resnet import ResNet50\n",
    "from tensorflow.keras.applications.efficientnet import EfficientNetB0\n",
    "from tensorflow.keras.applications.inception_v3 import InceptionV3\n",
    "from tensorflow.keras.applications.densenet import DenseNet121\n",
    "# Definición de las variables globales\n",
    "IMG_SIZE=32\n",
    "NUM_CHANNELS=3\n",
    "NUM_CLASSES=43\n",
    "from random import sample, seed\n",
    "seed(3)\n",
    "\n"
   ]
  },
  {
   "cell_type": "code",
   "execution_count": 14,
   "metadata": {
    "execution": {
     "iopub.execute_input": "2021-12-01T08:14:11.476439Z",
     "iopub.status.busy": "2021-12-01T08:14:11.475622Z",
     "iopub.status.idle": "2021-12-01T08:14:11.680381Z",
     "shell.execute_reply": "2021-12-01T08:14:11.679388Z",
     "shell.execute_reply.started": "2021-12-01T08:14:11.476406Z"
    },
    "id": "RwwDMe-dODQr"
   },
   "outputs": [],
   "source": [
    "# Declaración de los directorios\n",
    "current_dir=os.getcwd()\n",
    "dataset_dir=current_dir+\"/Dataset\"\n",
    "dir_train=dataset_dir+\"/Train\"\n",
    "train_data=pd.read_csv(dataset_dir+\"/Train.csv\")\n",
    "test_data=pd.read_csv(dataset_dir+\"/Test.csv\")\n",
    "meta_data=pd.read_csv(dataset_dir+\"/Meta.csv\")\n",
    "\n",
    "x_images=test_data[\"Path\"]\n",
    "x_train_images=train_data[\"Path\"]\n",
    "x_train_labels=train_data[['ClassId']].to_numpy()\n",
    "y_test=test_data[['ClassId']].values"
   ]
  },
  {
   "cell_type": "code",
   "execution_count": 15,
   "metadata": {
    "execution": {
     "iopub.execute_input": "2021-12-01T08:14:13.290992Z",
     "iopub.status.busy": "2021-12-01T08:14:13.290305Z",
     "iopub.status.idle": "2021-12-01T08:14:13.301618Z",
     "shell.execute_reply": "2021-12-01T08:14:13.300428Z",
     "shell.execute_reply.started": "2021-12-01T08:14:13.290940Z"
    },
    "id": "o5RsinLQpHmP"
   },
   "outputs": [],
   "source": [
    "# Preparación de los datos de entrenamiento\n",
    "def train_data(size,shear,rotation,brig):\n",
    "    # Definimos el data generator\n",
    "    train_datagen = ImageDataGenerator(\n",
    "        rescale=1 / 255.0,\n",
    "        validation_split=0.2,\n",
    "        shear_range=shear,\n",
    "        rotation_range=rotation,\n",
    "        brightness_range=brig\n",
    "    )\n",
    "\n",
    "    # Generamos los datos de entrenamiento\n",
    "    train_generator = train_datagen.flow_from_directory(\n",
    "        directory=dir_train,\n",
    "        target_size=size,\n",
    "        class_mode=\"categorical\",\n",
    "        subset='training',\n",
    "        shuffle=True\n",
    "        seed=3)\n",
    "\n",
    "\n",
    "    # Generamos los datos de vaidacion\n",
    "    valid_generator = train_datagen.flow_from_directory(\n",
    "        directory=dir_train,\n",
    "        target_size=size,\n",
    "        class_mode=\"categorical\",\n",
    "        subset='validation',\n",
    "        shuffle=True,\n",
    "        seed=3)\n",
    "    return train_generator,valid_generator"
   ]
  },
  {
   "cell_type": "code",
   "execution_count": 16,
   "metadata": {
    "execution": {
     "iopub.execute_input": "2021-12-01T08:14:16.072521Z",
     "iopub.status.busy": "2021-12-01T08:14:16.071733Z",
     "iopub.status.idle": "2021-12-01T08:14:16.079613Z",
     "shell.execute_reply": "2021-12-01T08:14:16.078293Z",
     "shell.execute_reply.started": "2021-12-01T08:14:16.072459Z"
    },
    "id": "SuuyTsrZ85ox"
   },
   "outputs": [],
   "source": [
    "# Preparación de los datos de prueba\n",
    "def test_generator(img_size, x_images):\n",
    "    # Recorremos todas las imágenes\n",
    "    for image_path in x_images:\n",
    "\n",
    "        # Para cada imagen realizamos un resizing y lo convertimos en un array \n",
    "        image = load_img(dataset_dir+\"/\"+image_path, target_size=img_size)\n",
    "        image_array = img_to_array(image)\n",
    "        image_array=image_array/255\n",
    "        image_array = np.array([image_array])\n",
    "        \n",
    "        # Pasamos la imagen a la función de preprocesado utilizada en el modelo\n",
    "        yield image_array\n",
    "        "
   ]
  },
  {
   "cell_type": "code",
   "execution_count": 17,
   "metadata": {
    "execution": {
     "iopub.execute_input": "2021-12-01T08:14:18.796598Z",
     "iopub.status.busy": "2021-12-01T08:14:18.796254Z",
     "iopub.status.idle": "2021-12-01T08:14:18.803369Z",
     "shell.execute_reply": "2021-12-01T08:14:18.801307Z",
     "shell.execute_reply.started": "2021-12-01T08:14:18.796552Z"
    },
    "id": "3cmCaw8qtzP7"
   },
   "outputs": [],
   "source": [
    "# Generación de los pesos de las imágenes\n",
    "def weights_train(train_data):\n",
    "    # Contamos el numero de valores por clase\n",
    "    counter = Counter(train_data.classes)\n",
    "    # Almacenamos los valores máximos\n",
    "    max_val = float(max(counter.values()))\n",
    "    # Calculamos los pesos\n",
    "    class_weights = {class_id : max_val/num_images for class_id, num_images in counter.items()}                     \n",
    "    return class_weights"
   ]
  },
  {
   "cell_type": "code",
   "execution_count": 8,
   "metadata": {
    "execution": {
     "iopub.execute_input": "2021-12-01T08:12:09.451043Z",
     "iopub.status.busy": "2021-12-01T08:12:09.450490Z",
     "iopub.status.idle": "2021-12-01T08:12:09.458961Z",
     "shell.execute_reply": "2021-12-01T08:12:09.457571Z",
     "shell.execute_reply.started": "2021-12-01T08:12:09.450994Z"
    },
    "id": "9V4aZOwbWwmj"
   },
   "outputs": [],
   "source": [
    "# Configuraciones de los modelos preentrenados\n",
    "settings = {\n",
    "    'inceptionV3': {\n",
    "        'model': InceptionV3,\n",
    "        'img_size': (150, 150),\n",
    "        'shear': 0.2,\n",
    "        'brig': None,\n",
    "        'rotation': None,\n",
    "    },\n",
    "    'efficientb0': {\n",
    "        'model': EfficientNetB0,\n",
    "        'img_size': (224, 224),\n",
    "        'shear': 0.2,\n",
    "        'brig': [0.8,0.8],\n",
    "        'rotation': None\n",
    "    },\n",
    "    'resnet50': {\n",
    "        'model': ResNet50,\n",
    "        'img_size': (224, 224),\n",
    "        'shear': 0.2,\n",
    "        'brig': [0.8,0.8],\n",
    "        'rotation': None    },\n",
    "    'DenseNet121': {\n",
    "        'model': DenseNet121,\n",
    "        'img_size': (224, 224),\n",
    "        'shear': 0.2,\n",
    "        'brig': None,\n",
    "        'rotation': None    }\n",
    "}"
   ]
  },
  {
   "cell_type": "code",
   "execution_count": 30,
   "metadata": {
    "execution": {
     "iopub.execute_input": "2021-12-01T09:21:35.286135Z",
     "iopub.status.busy": "2021-12-01T09:21:35.285790Z",
     "iopub.status.idle": "2021-12-01T09:21:35.297964Z",
     "shell.execute_reply": "2021-12-01T09:21:35.295647Z",
     "shell.execute_reply.started": "2021-12-01T09:21:35.286087Z"
    },
    "id": "xZ0WI9GVodrd"
   },
   "outputs": [],
   "source": [
    "# Función que crea el modelo y lo entrena\n",
    "def imagenet_model (model, input_size, train, valid,  test=False ):\n",
    "    weights=weights_train(train)\n",
    "    base_model=model(include_top=False, weights=\"imagenet\", input_shape=(input_size + (3,)))\n",
    "    base_model_img=Sequential()\n",
    "    base_model_img.add(base_model)\n",
    "    base_model_img.add(Flatten())\n",
    "    base_model_img.add(Dense(NUM_CLASSES, activation=\"softmax\"))\n",
    "    if test==False:\n",
    "        epochs=15\n",
    "    else:\n",
    "        epochs=15\n",
    "    # Compilamos el modelo\n",
    "  \n",
    "    base_model_img.compile(optimizer=Adam(), loss='categorical_crossentropy', metrics=['accuracy'])\n",
    "    # Generamos el callback de early stopping indicando que la validacion se realizara cada 50 epocas\n",
    "    callback=EarlyStopping(monitor='val_loss', verbose=1, patience=6,restore_best_weights=True)\n",
    "    # Entrenamos el modelo\n",
    "    history = base_model_img.fit(train ,validation_data=(valid), \n",
    "                                                  epochs=epochs, verbose=1, callbacks=[callback], class_weight=weights)  \n",
    "    \n",
    "    return base_model_img, history"
   ]
  },
  {
   "cell_type": "code",
   "execution_count": 23,
   "metadata": {
    "execution": {
     "iopub.execute_input": "2021-12-01T08:42:48.378469Z",
     "iopub.status.busy": "2021-12-01T08:42:48.377986Z",
     "iopub.status.idle": "2021-12-01T08:42:48.391464Z",
     "shell.execute_reply": "2021-12-01T08:42:48.390404Z",
     "shell.execute_reply.started": "2021-12-01T08:42:48.378364Z"
    },
    "id": "2_SXH9Z0nQ4_"
   },
   "outputs": [],
   "source": [
    "# Entrenamiento y predicción\n",
    "def train_imagenet_models (settings):\n",
    "    results=[]\n",
    "    models=[]\n",
    "    for name, model_settings in settings.items():\n",
    "        model=model_settings['model']\n",
    "        size=model_settings[\"img_size\"]\n",
    "        brig=model_settings[\"brig\"]\n",
    "        shear=model_settings[\"shear\"]\n",
    "        rotation=model_settings[\"rotation\"]\n",
    "        \n",
    "        train,valid=train_data(size,shear,rotation,brig)\n",
    "        cnn_model, history_model=imagenet_model(model,size,train, valid,test=False)\n",
    "        \n",
    "        X_test=test_generator(size,x_images)\n",
    "        y_pred = cnn_model.predict(X_test)\n",
    "        y_pred=np.argmax(y_pred,axis=1)\n",
    "        \n",
    "        label_mapper = {v: k for k, v in valid.class_indices.items()}\n",
    "        y_pred = list(map(lambda x: label_mapper[x], y_pred))\n",
    "        y_true=list(map(str,test_data[\"ClassId\"]))\n",
    "        val_acc=accuracy_score(y_pred,y_true)\n",
    "        \n",
    "        params=cnn_model.count_params()\n",
    "        \n",
    "        tmp={\"Model\": name,\n",
    "         \"Accuracy\": val_acc,\n",
    "         \"Number of parameters\": params\n",
    "             }\n",
    "        results.append(tmp)\n",
    "        model_name=current_dir+'/Results/Pretrained_train/'+name+'.h5'\n",
    "        cnn_model.save(model_name)\n",
    "        \n",
    "    return pd.DataFrame(results)\n"
   ]
  },
  {
   "cell_type": "code",
   "execution_count": null,
   "metadata": {
    "execution": {
     "iopub.execute_input": "2021-11-30T16:56:33.802087Z",
     "iopub.status.busy": "2021-11-30T16:56:33.801417Z",
     "iopub.status.idle": "2021-11-30T17:08:57.788955Z",
     "shell.execute_reply": "2021-11-30T17:08:57.788077Z",
     "shell.execute_reply.started": "2021-11-30T16:56:33.802045Z"
    }
   },
   "outputs": [],
   "source": [
    "result=train_imagenet_models(settings)\n",
    "result.to_csv(current_dir+'/Results/Pretrained_train/CNN_Imagenet.csv', index=False)"
   ]
  }
 ],
 "metadata": {
  "kernelspec": {
   "display_name": "Python 3 (ipykernel)",
   "language": "python",
   "name": "python3"
  },
  "language_info": {
   "codemirror_mode": {
    "name": "ipython",
    "version": 3
   },
   "file_extension": ".py",
   "mimetype": "text/x-python",
   "name": "python",
   "nbconvert_exporter": "python",
   "pygments_lexer": "ipython3",
   "version": "3.7.11"
  }
 },
 "nbformat": 4,
 "nbformat_minor": 4
}
